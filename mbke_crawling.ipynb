{
 "cells": [
  {
   "cell_type": "code",
   "execution_count": 1,
   "metadata": {},
   "outputs": [],
   "source": [
    "import pandas as pd\n",
    "import numpy as np\n",
    "import sys\n",
    "import re\n",
    "import requests \n",
    "from bs4 import  BeautifulSoup\n",
    "import json\n",
    "from tqdm import tnrange, tqdm_notebook\n",
    "from datetime import datetime\n",
    "from tqdm import trange,tnrange, tqdm_notebook\n",
    "import time\n",
    "import polars as pl"
   ]
  },
  {
   "cell_type": "code",
   "execution_count": 2,
   "metadata": {},
   "outputs": [],
   "source": [
    "import pyodbc\n",
    "from requests_html import AsyncHTMLSession\n",
    "asession = AsyncHTMLSession()\n",
    "from datetime import date\n",
    "from dateutil.relativedelta import relativedelta"
   ]
  },
  {
   "cell_type": "code",
   "execution_count": 3,
   "metadata": {},
   "outputs": [
    {
     "data": {
      "text/html": [
       "        <script type=\"text/javascript\">\n",
       "        window.PlotlyConfig = {MathJaxConfig: 'local'};\n",
       "        if (window.MathJax && window.MathJax.Hub && window.MathJax.Hub.Config) {window.MathJax.Hub.Config({SVG: {font: \"STIX-Web\"}});}\n",
       "        if (typeof require !== 'undefined') {\n",
       "        require.undef(\"plotly\");\n",
       "        requirejs.config({\n",
       "            paths: {\n",
       "                'plotly': ['https://cdn.plot.ly/plotly-2.20.0.min']\n",
       "            }\n",
       "        });\n",
       "        require(['plotly'], function(Plotly) {\n",
       "            window._Plotly = Plotly;\n",
       "        });\n",
       "        }\n",
       "        </script>\n",
       "        "
      ]
     },
     "metadata": {},
     "output_type": "display_data"
    }
   ],
   "source": [
    "import plotly as py\n",
    "import plotly.tools as tls\n",
    "import plotly.graph_objs as go\n",
    "from plotly.offline import iplot, plot\n",
    "py.offline.init_notebook_mode(connected=True)\n",
    "import ipywidgets as widgets\n",
    "from ipywidgets import interact, interact_manual"
   ]
  },
  {
   "cell_type": "code",
   "execution_count": 4,
   "metadata": {},
   "outputs": [],
   "source": [
    "idx = pd.IndexSlice\n",
    "pd.options.display.float_format = '{:,.3f}'.format"
   ]
  },
  {
   "cell_type": "markdown",
   "metadata": {
    "heading_collapsed": true,
    "jp-MarkdownHeadingCollapsed": true
   },
   "source": [
    "# CRAWL BÁO CÁO MBKE"
   ]
  },
  {
   "cell_type": "code",
   "execution_count": 114,
   "metadata": {},
   "outputs": [],
   "source": [
    "import os\n",
    "# dir path for saving file E:/Report/MBKE\n",
    "dir_path = 'E:/Report/MBKE/'\n",
    "files = os.listdir(dir_path)\n",
    "files = [re.findall(r'^\\d+',x) for x in files]\n",
    "files = [item for sublist in files for item in sublist]\n",
    "files = [int(x) for x in files]\n",
    "\n",
    "file_list = os.listdir(dir_path)\n",
    "#create a dataframe with file_list and files\n",
    "list_file = pd.DataFrame([file_list,files]).T \n",
    "list_file.columns = ['filename','id_filename']\n",
    "# list_file = list(list_file['filename'])\n",
    "start = max(files)\n",
    "end = start + 500\n",
    "min_report = min(files)\n",
    "#get the number missing in files with range min_report to start\n",
    "missing = [x for x in range(min_report, start) if x not in files]\n",
    "quet = [x for x in range(min_report, start)]\n",
    "\n"
   ]
  },
  {
   "cell_type": "code",
   "execution_count": 106,
   "metadata": {},
   "outputs": [],
   "source": [
    "def get_report_name(link):\n",
    "    try:\n",
    "        r = requests.get(link,timeout=5)\n",
    "        try:\n",
    "            with r:\n",
    "                fname = ''\n",
    "                if \"Content-Disposition\" in r.headers.keys():\n",
    "                    fname = re.findall(\"filename=(.+)\", r.headers[\"Content-Disposition\"])[0]\n",
    "                else:\n",
    "                    fname = link.split('/')[-1]\n",
    "                return fname\n",
    "        except requests.exceptions.RequestException as e:\n",
    "            print(e)\n",
    "    except requests.exceptions.RequestException as e:\n",
    "        print(e)\n",
    "        "
   ]
  },
  {
   "cell_type": "code",
   "execution_count": 123,
   "metadata": {},
   "outputs": [
    {
     "name": "stderr",
     "output_type": "stream",
     "text": [
      "C:\\Users\\HP PAVILION\\AppData\\Local\\Temp\\ipykernel_32236\\1582703808.py:1: TqdmDeprecationWarning:\n",
      "\n",
      "Please use `tqdm.notebook.trange` instead of `tqdm.tnrange`\n",
      "\n"
     ]
    },
    {
     "data": {
      "application/vnd.jupyter.widget-view+json": {
       "model_id": "8237e3fb6afe48bba7a2b5cdf748be99",
       "version_major": 2,
       "version_minor": 0
      },
      "text/plain": [
       "  0%|          | 0/4852 [00:00<?, ?it/s]"
      ]
     },
     "metadata": {},
     "output_type": "display_data"
    }
   ],
   "source": [
    "for i in tnrange(len(quet)):\n",
    "    url = f'https://www.kelive.com/KimEng/servlet/PDFDownloadViaEmail?source=0&rid={quet[i]}'\n",
    "    name = get_report_name(url)\n",
    "    if name != None:\n",
    "        list_file.loc[i,'id_report'] = str(quet[i])\n",
    "        list_file.loc[i,'report_name'] = name\n",
    "    else:\n",
    "        print(f'{i} - No file')"
   ]
  },
  {
   "cell_type": "code",
   "execution_count": 122,
   "metadata": {},
   "outputs": [
    {
     "data": {
      "text/html": [
       "<div>\n",
       "<style scoped>\n",
       "    .dataframe tbody tr th:only-of-type {\n",
       "        vertical-align: middle;\n",
       "    }\n",
       "\n",
       "    .dataframe tbody tr th {\n",
       "        vertical-align: top;\n",
       "    }\n",
       "\n",
       "    .dataframe thead th {\n",
       "        text-align: right;\n",
       "    }\n",
       "</style>\n",
       "<table border=\"1\" class=\"dataframe\">\n",
       "  <thead>\n",
       "    <tr style=\"text-align: right;\">\n",
       "      <th></th>\n",
       "      <th>filename</th>\n",
       "      <th>id_filename</th>\n",
       "      <th>id_report</th>\n",
       "      <th>report_name</th>\n",
       "    </tr>\n",
       "  </thead>\n",
       "  <tbody>\n",
       "    <tr>\n",
       "      <th>0</th>\n",
       "      <td>56500_Westports_20220128.pdf</td>\n",
       "      <td>56500</td>\n",
       "      <td>56500</td>\n",
       "      <td>\"56500_Westports_20220128.pdf\"</td>\n",
       "    </tr>\n",
       "    <tr>\n",
       "      <th>1</th>\n",
       "      <td>56501_PM-Philippines External Trade Dec 2021 2...</td>\n",
       "      <td>56501</td>\n",
       "      <td>56501</td>\n",
       "      <td>\"56501_PM-Philippines External Trade Dec 2021 ...</td>\n",
       "    </tr>\n",
       "    <tr>\n",
       "      <th>2</th>\n",
       "      <td>56502_India Daily280122.pdf</td>\n",
       "      <td>56502</td>\n",
       "      <td>56,502.000</td>\n",
       "      <td>\"56502_India Daily280122.pdf\"</td>\n",
       "    </tr>\n",
       "    <tr>\n",
       "      <th>3</th>\n",
       "      <td>56503_SP-DBS Group 280122.pdf</td>\n",
       "      <td>56503</td>\n",
       "      <td>NaN</td>\n",
       "      <td>NaN</td>\n",
       "    </tr>\n",
       "    <tr>\n",
       "      <th>4</th>\n",
       "      <td>56504_RGL-ASEAN X Macro 280122.pdf</td>\n",
       "      <td>56504</td>\n",
       "      <td>NaN</td>\n",
       "      <td>NaN</td>\n",
       "    </tr>\n",
       "    <tr>\n",
       "      <th>...</th>\n",
       "      <td>...</td>\n",
       "      <td>...</td>\n",
       "      <td>...</td>\n",
       "      <td>...</td>\n",
       "    </tr>\n",
       "    <tr>\n",
       "      <th>4661</th>\n",
       "      <td>61348_MK-Carlsberg Brewery Malaysia 140524.pdf</td>\n",
       "      <td>61348</td>\n",
       "      <td>NaN</td>\n",
       "      <td>NaN</td>\n",
       "    </tr>\n",
       "    <tr>\n",
       "      <th>4662</th>\n",
       "      <td>61349_MK-Swift Haulage 140524.pdf</td>\n",
       "      <td>61349</td>\n",
       "      <td>NaN</td>\n",
       "      <td>NaN</td>\n",
       "    </tr>\n",
       "    <tr>\n",
       "      <th>4663</th>\n",
       "      <td>61351_KhangDienHouse_20240514.pdf</td>\n",
       "      <td>61351</td>\n",
       "      <td>NaN</td>\n",
       "      <td>NaN</td>\n",
       "    </tr>\n",
       "    <tr>\n",
       "      <th>4664</th>\n",
       "      <td>61351_MK-BNM Monetary Policy 090524.pdf</td>\n",
       "      <td>61351</td>\n",
       "      <td>NaN</td>\n",
       "      <td>NaN</td>\n",
       "    </tr>\n",
       "    <tr>\n",
       "      <th>4665</th>\n",
       "      <td>61352_SP-Bumitama Agri 140524.pdf</td>\n",
       "      <td>61352</td>\n",
       "      <td>NaN</td>\n",
       "      <td>NaN</td>\n",
       "    </tr>\n",
       "  </tbody>\n",
       "</table>\n",
       "<p>4666 rows × 4 columns</p>\n",
       "</div>"
      ],
      "text/plain": [
       "                                               filename id_filename   \n",
       "0                          56500_Westports_20220128.pdf       56500  \\\n",
       "1     56501_PM-Philippines External Trade Dec 2021 2...       56501   \n",
       "2                           56502_India Daily280122.pdf       56502   \n",
       "3                         56503_SP-DBS Group 280122.pdf       56503   \n",
       "4                    56504_RGL-ASEAN X Macro 280122.pdf       56504   \n",
       "...                                                 ...         ...   \n",
       "4661     61348_MK-Carlsberg Brewery Malaysia 140524.pdf       61348   \n",
       "4662                  61349_MK-Swift Haulage 140524.pdf       61349   \n",
       "4663                  61351_KhangDienHouse_20240514.pdf       61351   \n",
       "4664            61351_MK-BNM Monetary Policy 090524.pdf       61351   \n",
       "4665                  61352_SP-Bumitama Agri 140524.pdf       61352   \n",
       "\n",
       "      id_report                                        report_name  \n",
       "0         56500                     \"56500_Westports_20220128.pdf\"  \n",
       "1         56501  \"56501_PM-Philippines External Trade Dec 2021 ...  \n",
       "2    56,502.000                      \"56502_India Daily280122.pdf\"  \n",
       "3           NaN                                                NaN  \n",
       "4           NaN                                                NaN  \n",
       "...         ...                                                ...  \n",
       "4661        NaN                                                NaN  \n",
       "4662        NaN                                                NaN  \n",
       "4663        NaN                                                NaN  \n",
       "4664        NaN                                                NaN  \n",
       "4665        NaN                                                NaN  \n",
       "\n",
       "[4666 rows x 4 columns]"
      ]
     },
     "execution_count": 122,
     "metadata": {},
     "output_type": "execute_result"
    }
   ],
   "source": [
    "list_file"
   ]
  },
  {
   "cell_type": "code",
   "execution_count": 108,
   "metadata": {},
   "outputs": [
    {
     "data": {
      "text/html": [
       "<div>\n",
       "<style scoped>\n",
       "    .dataframe tbody tr th:only-of-type {\n",
       "        vertical-align: middle;\n",
       "    }\n",
       "\n",
       "    .dataframe tbody tr th {\n",
       "        vertical-align: top;\n",
       "    }\n",
       "\n",
       "    .dataframe thead th {\n",
       "        text-align: right;\n",
       "    }\n",
       "</style>\n",
       "<table border=\"1\" class=\"dataframe\">\n",
       "  <thead>\n",
       "    <tr style=\"text-align: right;\">\n",
       "      <th></th>\n",
       "      <th>id_file</th>\n",
       "      <th>link</th>\n",
       "    </tr>\n",
       "  </thead>\n",
       "  <tbody>\n",
       "    <tr>\n",
       "      <th>0</th>\n",
       "      <td>61352</td>\n",
       "      <td>https://www.kelive.com/KimEng/servlet/PDFDownl...</td>\n",
       "    </tr>\n",
       "    <tr>\n",
       "      <th>1</th>\n",
       "      <td>61353</td>\n",
       "      <td>https://www.kelive.com/KimEng/servlet/PDFDownl...</td>\n",
       "    </tr>\n",
       "    <tr>\n",
       "      <th>2</th>\n",
       "      <td>61354</td>\n",
       "      <td>https://www.kelive.com/KimEng/servlet/PDFDownl...</td>\n",
       "    </tr>\n",
       "    <tr>\n",
       "      <th>3</th>\n",
       "      <td>61355</td>\n",
       "      <td>https://www.kelive.com/KimEng/servlet/PDFDownl...</td>\n",
       "    </tr>\n",
       "    <tr>\n",
       "      <th>4</th>\n",
       "      <td>61356</td>\n",
       "      <td>https://www.kelive.com/KimEng/servlet/PDFDownl...</td>\n",
       "    </tr>\n",
       "    <tr>\n",
       "      <th>...</th>\n",
       "      <td>...</td>\n",
       "      <td>...</td>\n",
       "    </tr>\n",
       "    <tr>\n",
       "      <th>495</th>\n",
       "      <td>61847</td>\n",
       "      <td>https://www.kelive.com/KimEng/servlet/PDFDownl...</td>\n",
       "    </tr>\n",
       "    <tr>\n",
       "      <th>496</th>\n",
       "      <td>61848</td>\n",
       "      <td>https://www.kelive.com/KimEng/servlet/PDFDownl...</td>\n",
       "    </tr>\n",
       "    <tr>\n",
       "      <th>497</th>\n",
       "      <td>61849</td>\n",
       "      <td>https://www.kelive.com/KimEng/servlet/PDFDownl...</td>\n",
       "    </tr>\n",
       "    <tr>\n",
       "      <th>498</th>\n",
       "      <td>61850</td>\n",
       "      <td>https://www.kelive.com/KimEng/servlet/PDFDownl...</td>\n",
       "    </tr>\n",
       "    <tr>\n",
       "      <th>499</th>\n",
       "      <td>61851</td>\n",
       "      <td>https://www.kelive.com/KimEng/servlet/PDFDownl...</td>\n",
       "    </tr>\n",
       "  </tbody>\n",
       "</table>\n",
       "<p>500 rows × 2 columns</p>\n",
       "</div>"
      ],
      "text/plain": [
       "    id_file                                               link\n",
       "0     61352  https://www.kelive.com/KimEng/servlet/PDFDownl...\n",
       "1     61353  https://www.kelive.com/KimEng/servlet/PDFDownl...\n",
       "2     61354  https://www.kelive.com/KimEng/servlet/PDFDownl...\n",
       "3     61355  https://www.kelive.com/KimEng/servlet/PDFDownl...\n",
       "4     61356  https://www.kelive.com/KimEng/servlet/PDFDownl...\n",
       "..      ...                                                ...\n",
       "495   61847  https://www.kelive.com/KimEng/servlet/PDFDownl...\n",
       "496   61848  https://www.kelive.com/KimEng/servlet/PDFDownl...\n",
       "497   61849  https://www.kelive.com/KimEng/servlet/PDFDownl...\n",
       "498   61850  https://www.kelive.com/KimEng/servlet/PDFDownl...\n",
       "499   61851  https://www.kelive.com/KimEng/servlet/PDFDownl...\n",
       "\n",
       "[500 rows x 2 columns]"
      ]
     },
     "execution_count": 108,
     "metadata": {},
     "output_type": "execute_result"
    }
   ],
   "source": [
    "link = 'https://www.kelive.com/KimEng/servlet/PDFDownloadViaEmail?source=0&rid='\n",
    "list_link = pd.DataFrame(columns=['id_file','link'])\n",
    "#add missing to list_link['id_file']\n",
    "# list_link['id_file'] = missing\n",
    "#concat range(start,end) to list_link['id_file']\n",
    "list_link = pd.concat([list_link,pd.DataFrame(range(start,end),columns=['id_file'])],axis=0,ignore_index=True)\n",
    "list_link['link'] = link + list_link['id_file'].astype(str)\n",
    "list_link.reset_index(drop=True)\n",
    "list_link"
   ]
  },
  {
   "cell_type": "code",
   "execution_count": 107,
   "metadata": {},
   "outputs": [
    {
     "data": {
      "text/plain": [
       "'\"61115_MK-Cypark Resources 010424.pdf\"'"
      ]
     },
     "execution_count": 107,
     "metadata": {},
     "output_type": "execute_result"
    }
   ],
   "source": [
    "get_report_name(list_link.loc[0,'link'])"
   ]
  },
  {
   "cell_type": "code",
   "execution_count": 100,
   "metadata": {},
   "outputs": [
    {
     "name": "stderr",
     "output_type": "stream",
     "text": [
      "C:\\Users\\HP PAVILION\\AppData\\Local\\Temp\\ipykernel_32236\\4153846540.py:2: TqdmDeprecationWarning:\n",
      "\n",
      "Please use `tqdm.notebook.trange` instead of `tqdm.tnrange`\n",
      "\n"
     ]
    },
    {
     "data": {
      "application/vnd.jupyter.widget-view+json": {
       "model_id": "19463dc0bf81460b986554a01dd9f461",
       "version_major": 2,
       "version_minor": 0
      },
      "text/plain": [
       "  0%|          | 0/500 [00:00<?, ?it/s]"
      ]
     },
     "metadata": {},
     "output_type": "display_data"
    },
    {
     "name": "stdout",
     "output_type": "stream",
     "text": [
      "Error https://www.kelive.com/KimEng/servlet/PDFDownloadViaEmail?source=0&rid=61155\n",
      "Error https://www.kelive.com/KimEng/servlet/PDFDownloadViaEmail?source=0&rid=61178\n",
      "Error https://www.kelive.com/KimEng/servlet/PDFDownloadViaEmail?source=0&rid=61222\n",
      "Error https://www.kelive.com/KimEng/servlet/PDFDownloadViaEmail?source=0&rid=61227\n",
      "Error https://www.kelive.com/KimEng/servlet/PDFDownloadViaEmail?source=0&rid=61239\n",
      "Error https://www.kelive.com/KimEng/servlet/PDFDownloadViaEmail?source=0&rid=61258\n",
      "Error https://www.kelive.com/KimEng/servlet/PDFDownloadViaEmail?source=0&rid=61289\n",
      "Error https://www.kelive.com/KimEng/servlet/PDFDownloadViaEmail?source=0&rid=61296\n",
      "Error https://www.kelive.com/KimEng/servlet/PDFDownloadViaEmail?source=0&rid=61306\n",
      "Error https://www.kelive.com/KimEng/servlet/PDFDownloadViaEmail?source=0&rid=61320\n",
      "Error https://www.kelive.com/KimEng/servlet/PDFDownloadViaEmail?source=0&rid=61335\n",
      "Error https://www.kelive.com/KimEng/servlet/PDFDownloadViaEmail?source=0&rid=61350\n",
      "61353\n"
     ]
    },
    {
     "ename": "OSError",
     "evalue": "[Errno 22] Invalid argument: 'E:/Report/MBKE/DFDownloadViaEmail?source=0&rid=6135'",
     "output_type": "error",
     "traceback": [
      "\u001b[1;31m---------------------------------------------------------------------------\u001b[0m",
      "\u001b[1;31mOSError\u001b[0m                                   Traceback (most recent call last)",
      "Cell \u001b[1;32mIn[100], line 16\u001b[0m\n\u001b[0;32m     13\u001b[0m list_link\u001b[38;5;241m.\u001b[39mloc[i,\u001b[38;5;124m'\u001b[39m\u001b[38;5;124mfilename\u001b[39m\u001b[38;5;124m'\u001b[39m] \u001b[38;5;241m=\u001b[39m fname[\u001b[38;5;241m1\u001b[39m:\u001b[38;5;241m-\u001b[39m\u001b[38;5;241m1\u001b[39m]\n\u001b[0;32m     14\u001b[0m \u001b[38;5;28;01mif\u001b[39;00m list_link\u001b[38;5;241m.\u001b[39mloc[i,\u001b[38;5;124m'\u001b[39m\u001b[38;5;124mfilename\u001b[39m\u001b[38;5;124m'\u001b[39m] \u001b[38;5;129;01mnot\u001b[39;00m \u001b[38;5;129;01min\u001b[39;00m list_file:\n\u001b[0;32m     15\u001b[0m     \u001b[38;5;66;03m# print('downloading',list_link.loc[i,'filename'])\u001b[39;00m\n\u001b[1;32m---> 16\u001b[0m     \u001b[38;5;28;01mwith\u001b[39;00m \u001b[38;5;28;43mopen\u001b[39;49m\u001b[43m(\u001b[49m\u001b[43mdir_path\u001b[49m\u001b[38;5;241;43m+\u001b[39;49m\u001b[43mlist_link\u001b[49m\u001b[38;5;241;43m.\u001b[39;49m\u001b[43mloc\u001b[49m\u001b[43m[\u001b[49m\u001b[43mi\u001b[49m\u001b[43m,\u001b[49m\u001b[38;5;124;43m'\u001b[39;49m\u001b[38;5;124;43mfilename\u001b[39;49m\u001b[38;5;124;43m'\u001b[39;49m\u001b[43m]\u001b[49m\u001b[43m,\u001b[49m\u001b[43m \u001b[49m\u001b[38;5;124;43m\"\u001b[39;49m\u001b[38;5;124;43mwb\u001b[39;49m\u001b[38;5;124;43m\"\u001b[39;49m\u001b[43m)\u001b[49m \u001b[38;5;28;01mas\u001b[39;00m f:\n\u001b[0;32m     17\u001b[0m         f\u001b[38;5;241m.\u001b[39mwrite(r\u001b[38;5;241m.\u001b[39mcontent)\n\u001b[0;32m     18\u001b[0m \u001b[38;5;28;01melse\u001b[39;00m: \u001b[38;5;28mprint\u001b[39m(\u001b[38;5;124m'\u001b[39m\u001b[38;5;124mcó rồi\u001b[39m\u001b[38;5;124m'\u001b[39m)\n",
      "File \u001b[1;32mc:\\Users\\HP PAVILION\\AppData\\Local\\Programs\\Python\\Python311\\Lib\\site-packages\\IPython\\core\\interactiveshell.py:284\u001b[0m, in \u001b[0;36m_modified_open\u001b[1;34m(file, *args, **kwargs)\u001b[0m\n\u001b[0;32m    277\u001b[0m \u001b[38;5;28;01mif\u001b[39;00m file \u001b[38;5;129;01min\u001b[39;00m {\u001b[38;5;241m0\u001b[39m, \u001b[38;5;241m1\u001b[39m, \u001b[38;5;241m2\u001b[39m}:\n\u001b[0;32m    278\u001b[0m     \u001b[38;5;28;01mraise\u001b[39;00m \u001b[38;5;167;01mValueError\u001b[39;00m(\n\u001b[0;32m    279\u001b[0m         \u001b[38;5;124mf\u001b[39m\u001b[38;5;124m\"\u001b[39m\u001b[38;5;124mIPython won\u001b[39m\u001b[38;5;124m'\u001b[39m\u001b[38;5;124mt let you open fd=\u001b[39m\u001b[38;5;132;01m{\u001b[39;00mfile\u001b[38;5;132;01m}\u001b[39;00m\u001b[38;5;124m by default \u001b[39m\u001b[38;5;124m\"\u001b[39m\n\u001b[0;32m    280\u001b[0m         \u001b[38;5;124m\"\u001b[39m\u001b[38;5;124mas it is likely to crash IPython. If you know what you are doing, \u001b[39m\u001b[38;5;124m\"\u001b[39m\n\u001b[0;32m    281\u001b[0m         \u001b[38;5;124m\"\u001b[39m\u001b[38;5;124myou can use builtins\u001b[39m\u001b[38;5;124m'\u001b[39m\u001b[38;5;124m open.\u001b[39m\u001b[38;5;124m\"\u001b[39m\n\u001b[0;32m    282\u001b[0m     )\n\u001b[1;32m--> 284\u001b[0m \u001b[38;5;28;01mreturn\u001b[39;00m \u001b[43mio_open\u001b[49m\u001b[43m(\u001b[49m\u001b[43mfile\u001b[49m\u001b[43m,\u001b[49m\u001b[43m \u001b[49m\u001b[38;5;241;43m*\u001b[39;49m\u001b[43margs\u001b[49m\u001b[43m,\u001b[49m\u001b[43m \u001b[49m\u001b[38;5;241;43m*\u001b[39;49m\u001b[38;5;241;43m*\u001b[39;49m\u001b[43mkwargs\u001b[49m\u001b[43m)\u001b[49m\n",
      "\u001b[1;31mOSError\u001b[0m: [Errno 22] Invalid argument: 'E:/Report/MBKE/DFDownloadViaEmail?source=0&rid=6135'"
     ]
    }
   ],
   "source": [
    "r = requests.get(list_link.loc[0,'link'],timeout=5)\n",
    "for i in tnrange(len(list_link)):\n",
    "    try:\n",
    "        r = requests.get(list_link.loc[i,'link'],timeout=5)\n",
    "        try:\n",
    "            with r:\n",
    "                fname = ''\n",
    "                if \"Content-Disposition\" in r.headers.keys():\n",
    "                    fname = re.findall(\"filename=(.+)\", r.headers[\"Content-Disposition\"])[0]\n",
    "                else:\n",
    "                    # print(list_link.loc[i,'id_file'])\n",
    "                    fname = list_link.loc[i,'link'].split(\"/\")[-1]\n",
    "            list_link.loc[i,'filename'] = fname[1:-1]\n",
    "            if list_link.loc[i,'filename'] not in list_file:\n",
    "                # print('downloading',list_link.loc[i,'filename'])\n",
    "                with open(dir_path+list_link.loc[i,'filename'], \"wb\") as f:\n",
    "                    f.write(r.content)\n",
    "            else: print('có rồi')\n",
    "\n",
    "        except requests.exceptions.RequestException as e:\n",
    "            print(e)\n",
    "    except requests.exceptions.RequestException as e:\n",
    "        list_link.loc[i,'status'] = 'ERROR'\n",
    "        print(\"Error\", list_link.loc[i,'link'])\n"
   ]
  },
  {
   "cell_type": "code",
   "execution_count": 69,
   "metadata": {},
   "outputs": [
    {
     "data": {
      "text/plain": [
       "'https://www.kelive.com/KimEng/servlet/PDFDownloadViaEmail?source=0&rid=56594'"
      ]
     },
     "execution_count": 69,
     "metadata": {},
     "output_type": "execute_result"
    }
   ],
   "source": [
    "list_link.loc[3,'link']"
   ]
  },
  {
   "cell_type": "code",
   "execution_count": null,
   "metadata": {
    "hidden": true
   },
   "outputs": [],
   "source": []
  },
  {
   "cell_type": "markdown",
   "metadata": {},
   "source": [
    "# HOWARD MARKS - OAKTREE CAPITAL"
   ]
  },
  {
   "cell_type": "code",
   "execution_count": 159,
   "metadata": {},
   "outputs": [
    {
     "name": "stdout",
     "output_type": "stream",
     "text": [
      "Merged PDF saved as 'HowardMarks-Memo-1990_2023.pdf'\n"
     ]
    }
   ],
   "source": [
    "pdf_folder = os.path.expanduser(\"~/Desktop/SuperInvestor/Howard Marks/\")\n",
    "output_pdf = 'HowardMarks-Memo-1990_2023.pdf'\n",
    "pdf_files = []\n",
    "for filename in os.listdir(pdf_folder):\n",
    "    if filename.endswith('.pdf'):\n",
    "        pdf_files.append(os.path.join(pdf_folder, filename))\n",
    "if not pdf_files:\n",
    "    print(\"No PDF files found in the directory.\")\n",
    "else:\n",
    "    pdf_merger = PyPDF2.PdfMerger()\n",
    "    for pdf_file in pdf_files:\n",
    "        pdf_merger.append(pdf_file)\n",
    "    pdf_merger.write(output_pdf)\n",
    "    pdf_merger.close()\n",
    "\n",
    "    print(f\"Merged PDF saved as '{output_pdf}'\")"
   ]
  },
  {
   "cell_type": "markdown",
   "metadata": {},
   "source": [
    "# Emeth Value Capital"
   ]
  },
  {
   "cell_type": "code",
   "execution_count": 160,
   "metadata": {},
   "outputs": [
    {
     "name": "stdout",
     "output_type": "stream",
     "text": [
      "Merged PDF saved as 'Emeth Value Capital-2018_2023.pdf'\n"
     ]
    }
   ],
   "source": [
    "pdf_folder = os.path.expanduser(\"~/Desktop/SuperInvestor/Emeth Value Capital/\")\n",
    "output_pdf = 'Emeth Value Capital-2018_2023.pdf'\n",
    "pdf_files = []\n",
    "for filename in os.listdir(pdf_folder):\n",
    "    if filename.endswith('.pdf'):\n",
    "        pdf_files.append(os.path.join(pdf_folder, filename))\n",
    "if not pdf_files:\n",
    "    print(\"No PDF files found in the directory.\")\n",
    "else:\n",
    "    pdf_merger = PyPDF2.PdfMerger()\n",
    "    for pdf_file in pdf_files:\n",
    "        pdf_merger.append(pdf_file)\n",
    "    pdf_merger.write(output_pdf)\n",
    "    pdf_merger.close()\n",
    "\n",
    "    print(f\"Merged PDF saved as '{output_pdf}'\")"
   ]
  },
  {
   "cell_type": "markdown",
   "metadata": {},
   "source": [
    "# St James Investment Company"
   ]
  },
  {
   "cell_type": "code",
   "execution_count": 33,
   "metadata": {},
   "outputs": [
    {
     "name": "stdout",
     "output_type": "stream",
     "text": [
      "Merged PDF saved as 'St James Investment Company_2014-2023.pdf'\n"
     ]
    }
   ],
   "source": [
    "pdf_folder = os.path.expanduser(\"~/Desktop/SuperInvestor/St James Investment Company/\")\n",
    "output_pdf = 'St James Investment Company_2014-2023.pdf'\n",
    "pdf_files = []\n",
    "for filename in os.listdir(pdf_folder):\n",
    "    if filename.endswith('.pdf'):\n",
    "        pdf_files.append(os.path.join(pdf_folder, filename))\n",
    "if not pdf_files:\n",
    "    print(\"No PDF files found in the directory.\")\n",
    "else:\n",
    "    pdf_merger = PyPDF2.PdfMerger()\n",
    "    for pdf_file in pdf_files:\n",
    "        pdf_merger.append(pdf_file)\n",
    "    pdf_merger.write(output_pdf)\n",
    "    pdf_merger.close()\n",
    "\n",
    "    print(f\"Merged PDF saved as '{output_pdf}'\")"
   ]
  },
  {
   "cell_type": "code",
   "execution_count": 34,
   "metadata": {},
   "outputs": [
    {
     "name": "stdout",
     "output_type": "stream",
     "text": [
      "Merged PDF saved as 'TaoValue_2017-2021.pdf'\n"
     ]
    }
   ],
   "source": [
    "pdf_folder = os.path.expanduser(\"~/Desktop/SuperInvestor/TaoValue/\")\n",
    "output_pdf = 'TaoValue_2017-2021.pdf'\n",
    "pdf_files = []\n",
    "for filename in os.listdir(pdf_folder):\n",
    "    if filename.endswith('.pdf'):\n",
    "        pdf_files.append(os.path.join(pdf_folder, filename))\n",
    "if not pdf_files:\n",
    "    print(\"No PDF files found in the directory.\")\n",
    "else:\n",
    "    pdf_merger = PyPDF2.PdfMerger()\n",
    "    for pdf_file in pdf_files:\n",
    "        pdf_merger.append(pdf_file)\n",
    "    pdf_merger.write(output_pdf)\n",
    "    pdf_merger.close()\n",
    "\n",
    "    print(f\"Merged PDF saved as '{output_pdf}'\")"
   ]
  },
  {
   "cell_type": "code",
   "execution_count": 35,
   "metadata": {},
   "outputs": [
    {
     "name": "stdout",
     "output_type": "stream",
     "text": [
      "Merged PDF saved as 'Righ Tail Capital_2022-2023.pdf'\n"
     ]
    }
   ],
   "source": [
    "pdf_folder = os.path.expanduser(\"~/Desktop/SuperInvestor/Righ Tail Capital/\")\n",
    "output_pdf = 'Right Tail Capital_2022-2023.pdf'\n",
    "pdf_files = []\n",
    "for filename in os.listdir(pdf_folder):\n",
    "    if filename.endswith('.pdf'):\n",
    "        pdf_files.append(os.path.join(pdf_folder, filename))\n",
    "if not pdf_files:\n",
    "    print(\"No PDF files found in the directory.\")\n",
    "else:\n",
    "    pdf_merger = PyPDF2.PdfMerger()\n",
    "    for pdf_file in pdf_files:\n",
    "        pdf_merger.append(pdf_file)\n",
    "    pdf_merger.write(output_pdf)\n",
    "    pdf_merger.close()\n",
    "\n",
    "    print(f\"Merged PDF saved as '{output_pdf}'\")"
   ]
  },
  {
   "cell_type": "code",
   "execution_count": 55,
   "metadata": {},
   "outputs": [],
   "source": [
    "pdf_folder = os.path.expanduser(\"~/Desktop/SuperInvestor/Lindsell Train/\")\n",
    "output_pdf = 'Righ Tail Capital_2022-2023.pdf'\n",
    "pdf_files = []\n",
    "# for filename in os.listdir(pdf_folder):\n",
    "#     if filename.endswith('.pdf'):\n",
    "#         pdf_files.append(os.path.join(pdf_folder, filename))\n",
    "# if not pdf_files:\n",
    "#     print(\"No PDF files found in the directory.\")\n",
    "# else:\n",
    "#     pdf_merger = PyPDF2.PdfMerger()\n",
    "#     for pdf_file in pdf_files:\n",
    "#         pdf_merger.append(pdf_file)\n",
    "#     pdf_merger.write(output_pdf)\n",
    "#     pdf_merger.close()\n",
    "\n",
    "#     print(f\"Merged PDF saved as '{output_pdf}'\")"
   ]
  },
  {
   "cell_type": "markdown",
   "metadata": {},
   "source": [
    "# HaydenCapital"
   ]
  },
  {
   "cell_type": "code",
   "execution_count": 144,
   "metadata": {},
   "outputs": [],
   "source": [
    "import os\n",
    "dir_path = os.path.expanduser(\"~/Desktop/SuperInvestor/Hayden Capital/\")\n",
    "file_list = os.listdir(dir_path)\n",
    "list_file = pd.DataFrame(file_list, columns=['filename'])\n",
    "list_file = list(list_file['filename'])\n",
    "x['check'] = x['name'].isin(list_file)"
   ]
  },
  {
   "cell_type": "code",
   "execution_count": 145,
   "metadata": {},
   "outputs": [],
   "source": [
    "x = x[x['check']==False].reset_index()"
   ]
  },
  {
   "cell_type": "code",
   "execution_count": 146,
   "metadata": {},
   "outputs": [],
   "source": [
    "def download_pdf(url, save_path):\n",
    "    headers = {\"Accept\": \"application/pdf\",\n",
    "              \"User-Agent\":\"Mozilla/5.0 (Windows NT 10.0; Win64; x64) AppleWebKit/537.36 (KHTML, like Gecko) Chrome/117.0.0.0 Safari/537.36\"}  # Specify that you accept PDF format\n",
    "\n",
    "    response = requests.get(url, headers=headers)\n",
    "    \n",
    "    if response.status_code == 200:\n",
    "        with open(save_path, 'wb') as pdf_file:\n",
    "            pdf_file.write(response.content)\n",
    "        print(f\"PDF downloaded successfully to {save_path}\")\n",
    "    elif response.status_code == 406:\n",
    "        print(\"The server cannot provide a response in the format you accept (PDF).\")\n",
    "    else:\n",
    "        print(f\"Failed to download PDF. Status code: {response.status_code}\")"
   ]
  },
  {
   "cell_type": "code",
   "execution_count": 151,
   "metadata": {},
   "outputs": [
    {
     "name": "stderr",
     "output_type": "stream",
     "text": [
      "C:\\Users\\HP PAVILION\\AppData\\Local\\Temp\\ipykernel_4824\\277642095.py:2: TqdmDeprecationWarning:\n",
      "\n",
      "Please use `tqdm.notebook.trange` instead of `tqdm.tnrange`\n",
      "\n"
     ]
    },
    {
     "data": {
      "application/vnd.jupyter.widget-view+json": {
       "model_id": "78855a93d46643d99370ffa2d6b58ceb",
       "version_major": 2,
       "version_minor": 0
      },
      "text/plain": [
       "  0%|          | 0/22 [00:00<?, ?it/s]"
      ]
     },
     "metadata": {},
     "output_type": "display_data"
    },
    {
     "name": "stdout",
     "output_type": "stream",
     "text": [
      "Failed to download PDF. Status code: 404\n",
      "Failed to download PDF. Status code: 404\n",
      "Failed to download PDF. Status code: 404\n",
      "Failed to download PDF. Status code: 404\n",
      "Failed to download PDF. Status code: 404\n",
      "Failed to download PDF. Status code: 404\n",
      "Failed to download PDF. Status code: 404\n",
      "Failed to download PDF. Status code: 404\n",
      "Failed to download PDF. Status code: 404\n",
      "Failed to download PDF. Status code: 404\n",
      "Failed to download PDF. Status code: 404\n",
      "Failed to download PDF. Status code: 404\n",
      "Failed to download PDF. Status code: 404\n",
      "PDF downloaded successfully to C:\\Users\\HP PAVILION/Desktop/Superinvestor/Hayden Capital/Hayden-Capital-Quarterly-Letter-2017-Q2.pdf\n",
      "PDF downloaded successfully to C:\\Users\\HP PAVILION/Desktop/Superinvestor/Hayden Capital/Hayden-Capital-Quarterly-Letter-2017-Q3.pdf\n",
      "PDF downloaded successfully to C:\\Users\\HP PAVILION/Desktop/Superinvestor/Hayden Capital/Hayden-Capital-Quarterly-Letter-2017-Q4.pdf\n",
      "PDF downloaded successfully to C:\\Users\\HP PAVILION/Desktop/Superinvestor/Hayden Capital/Hayden-Capital-Quarterly-Letter-2018-Q1.pdf\n",
      "PDF downloaded successfully to C:\\Users\\HP PAVILION/Desktop/Superinvestor/Hayden Capital/Hayden-Capital-Quarterly-Letter-2018-Q2.pdf\n",
      "PDF downloaded successfully to C:\\Users\\HP PAVILION/Desktop/Superinvestor/Hayden Capital/Hayden-Capital-Quarterly-Letter-2018-Q3.pdf\n",
      "PDF downloaded successfully to C:\\Users\\HP PAVILION/Desktop/Superinvestor/Hayden Capital/Hayden-Capital-Quarterly-Letter-2018-Q4.pdf\n",
      "PDF downloaded successfully to C:\\Users\\HP PAVILION/Desktop/Superinvestor/Hayden Capital/Hayden-Capital-Quarterly-Letter-2019-Q1.pdf\n",
      "PDF downloaded successfully to C:\\Users\\HP PAVILION/Desktop/Superinvestor/Hayden Capital/Hayden-Capital-Quarterly-Letter-2019-Q2.pdf\n"
     ]
    }
   ],
   "source": [
    "desktop_path = os.path.expanduser(\"~/Desktop/Superinvestor/Hayden Capital/\")\n",
    "for i in tnrange(len(x)):\n",
    "    save_path = os.path.join(desktop_path, x.loc[i,'name'])\n",
    "    download_pdf(x.loc[i,'link'], save_path)"
   ]
  },
  {
   "cell_type": "code",
   "execution_count": 152,
   "metadata": {},
   "outputs": [
    {
     "name": "stdout",
     "output_type": "stream",
     "text": [
      "Merged PDF saved as 'Hayden_2017-2023.pdf'\n"
     ]
    }
   ],
   "source": [
    "pdf_folder = os.path.expanduser(\"~/Desktop/SuperInvestor/Hayden Capital/\")\n",
    "output_pdf = 'Hayden_2017-2023.pdf'\n",
    "pdf_files = []\n",
    "for filename in os.listdir(pdf_folder):\n",
    "    if filename.endswith('.pdf'):\n",
    "        pdf_files.append(os.path.join(pdf_folder, filename))\n",
    "if not pdf_files:\n",
    "    print(\"No PDF files found in the directory.\")\n",
    "else:\n",
    "    pdf_merger = PyPDF2.PdfMerger()\n",
    "    for pdf_file in pdf_files:\n",
    "        pdf_merger.append(pdf_file)\n",
    "    pdf_merger.write(output_pdf)\n",
    "    pdf_merger.close()\n",
    "\n",
    "    print(f\"Merged PDF saved as '{output_pdf}'\")"
   ]
  },
  {
   "cell_type": "code",
   "execution_count": null,
   "metadata": {},
   "outputs": [],
   "source": []
  },
  {
   "cell_type": "code",
   "execution_count": null,
   "metadata": {},
   "outputs": [],
   "source": []
  }
 ],
 "metadata": {
  "kernelspec": {
   "display_name": "Python 3 (ipykernel)",
   "language": "python",
   "name": "python3"
  },
  "language_info": {
   "codemirror_mode": {
    "name": "ipython",
    "version": 3
   },
   "file_extension": ".py",
   "mimetype": "text/x-python",
   "name": "python",
   "nbconvert_exporter": "python",
   "pygments_lexer": "ipython3",
   "version": "3.11.3"
  },
  "toc": {
   "base_numbering": 1,
   "nav_menu": {},
   "number_sections": true,
   "sideBar": true,
   "skip_h1_title": false,
   "title_cell": "Table of Contents",
   "title_sidebar": "Contents",
   "toc_cell": false,
   "toc_position": {},
   "toc_section_display": true,
   "toc_window_display": false
  }
 },
 "nbformat": 4,
 "nbformat_minor": 4
}
