{
 "cells": [
  {
   "cell_type": "code",
   "execution_count": 1,
   "metadata": {},
   "outputs": [],
   "source": [
    "import pandas as pd\n",
    "import numpy as np\n",
    "import sys\n",
    "import re\n",
    "import requests \n",
    "from bs4 import  BeautifulSoup\n",
    "import json\n",
    "from tqdm import tnrange, tqdm_notebook\n",
    "from datetime import datetime\n",
    "from tqdm import trange,tnrange, tqdm_notebook\n",
    "import time\n",
    "import polars as pl"
   ]
  },
  {
   "cell_type": "code",
   "execution_count": 2,
   "metadata": {},
   "outputs": [],
   "source": [
    "import pyodbc\n",
    "from requests_html import AsyncHTMLSession\n",
    "asession = AsyncHTMLSession()\n",
    "from datetime import date\n",
    "from dateutil.relativedelta import relativedelta"
   ]
  },
  {
   "cell_type": "code",
   "execution_count": 3,
   "metadata": {},
   "outputs": [
    {
     "data": {
      "text/html": [
       "        <script type=\"text/javascript\">\n",
       "        window.PlotlyConfig = {MathJaxConfig: 'local'};\n",
       "        if (window.MathJax && window.MathJax.Hub && window.MathJax.Hub.Config) {window.MathJax.Hub.Config({SVG: {font: \"STIX-Web\"}});}\n",
       "        if (typeof require !== 'undefined') {\n",
       "        require.undef(\"plotly\");\n",
       "        requirejs.config({\n",
       "            paths: {\n",
       "                'plotly': ['https://cdn.plot.ly/plotly-2.20.0.min']\n",
       "            }\n",
       "        });\n",
       "        require(['plotly'], function(Plotly) {\n",
       "            window._Plotly = Plotly;\n",
       "        });\n",
       "        }\n",
       "        </script>\n",
       "        "
      ]
     },
     "metadata": {},
     "output_type": "display_data"
    }
   ],
   "source": [
    "import plotly as py\n",
    "import plotly.tools as tls\n",
    "import plotly.graph_objs as go\n",
    "from plotly.offline import iplot, plot\n",
    "py.offline.init_notebook_mode(connected=True)\n",
    "import ipywidgets as widgets\n",
    "from ipywidgets import interact, interact_manual"
   ]
  },
  {
   "cell_type": "code",
   "execution_count": 4,
   "metadata": {},
   "outputs": [],
   "source": [
    "idx = pd.IndexSlice\n",
    "pd.options.display.float_format = '{:,.3f}'.format"
   ]
  },
  {
   "cell_type": "markdown",
   "metadata": {
    "heading_collapsed": true,
    "jp-MarkdownHeadingCollapsed": true
   },
   "source": [
    "# CRAWL BÁO CÁO MBKE"
   ]
  },
  {
   "cell_type": "code",
   "execution_count": 23,
   "metadata": {},
   "outputs": [],
   "source": [
    "import os\n",
    "# dir path for saving file E:/Report/MBKE\n",
    "dir_path = 'E:/Report/MBKE/'\n",
    "files = os.listdir(dir_path)\n",
    "files = [re.findall(r'^\\d+',x) for x in files]\n",
    "files = [item for sublist in files for item in sublist]\n",
    "files = [int(x) for x in files]\n",
    "\n",
    "file_list = os.listdir(dir_path)\n",
    "list_file = pd.DataFrame(file_list, columns=['filename'])\n",
    "list_file = list(list_file['filename'])\n",
    "start = max(files)\n",
    "end = start + 500\n",
    "min_report = min(files)\n",
    "#get the number missing in files with range min_report to start\n",
    "missing = [x for x in range(min_report, start) if x not in files]\n"
   ]
  },
  {
   "cell_type": "code",
   "execution_count": 24,
   "metadata": {},
   "outputs": [
    {
     "data": {
      "text/html": [
       "<div>\n",
       "<style scoped>\n",
       "    .dataframe tbody tr th:only-of-type {\n",
       "        vertical-align: middle;\n",
       "    }\n",
       "\n",
       "    .dataframe tbody tr th {\n",
       "        vertical-align: top;\n",
       "    }\n",
       "\n",
       "    .dataframe thead th {\n",
       "        text-align: right;\n",
       "    }\n",
       "</style>\n",
       "<table border=\"1\" class=\"dataframe\">\n",
       "  <thead>\n",
       "    <tr style=\"text-align: right;\">\n",
       "      <th></th>\n",
       "      <th>id_file</th>\n",
       "      <th>link</th>\n",
       "    </tr>\n",
       "  </thead>\n",
       "  <tbody>\n",
       "    <tr>\n",
       "      <th>0</th>\n",
       "      <td>56526</td>\n",
       "      <td>https://www.kelive.com/KimEng/servlet/PDFDownl...</td>\n",
       "    </tr>\n",
       "    <tr>\n",
       "      <th>1</th>\n",
       "      <td>56547</td>\n",
       "      <td>https://www.kelive.com/KimEng/servlet/PDFDownl...</td>\n",
       "    </tr>\n",
       "    <tr>\n",
       "      <th>2</th>\n",
       "      <td>56565</td>\n",
       "      <td>https://www.kelive.com/KimEng/servlet/PDFDownl...</td>\n",
       "    </tr>\n",
       "    <tr>\n",
       "      <th>3</th>\n",
       "      <td>56594</td>\n",
       "      <td>https://www.kelive.com/KimEng/servlet/PDFDownl...</td>\n",
       "    </tr>\n",
       "    <tr>\n",
       "      <th>4</th>\n",
       "      <td>56603</td>\n",
       "      <td>https://www.kelive.com/KimEng/servlet/PDFDownl...</td>\n",
       "    </tr>\n",
       "    <tr>\n",
       "      <th>...</th>\n",
       "      <td>...</td>\n",
       "      <td>...</td>\n",
       "    </tr>\n",
       "    <tr>\n",
       "      <th>1041</th>\n",
       "      <td>61610</td>\n",
       "      <td>https://www.kelive.com/KimEng/servlet/PDFDownl...</td>\n",
       "    </tr>\n",
       "    <tr>\n",
       "      <th>1042</th>\n",
       "      <td>61611</td>\n",
       "      <td>https://www.kelive.com/KimEng/servlet/PDFDownl...</td>\n",
       "    </tr>\n",
       "    <tr>\n",
       "      <th>1043</th>\n",
       "      <td>61612</td>\n",
       "      <td>https://www.kelive.com/KimEng/servlet/PDFDownl...</td>\n",
       "    </tr>\n",
       "    <tr>\n",
       "      <th>1044</th>\n",
       "      <td>61613</td>\n",
       "      <td>https://www.kelive.com/KimEng/servlet/PDFDownl...</td>\n",
       "    </tr>\n",
       "    <tr>\n",
       "      <th>1045</th>\n",
       "      <td>61614</td>\n",
       "      <td>https://www.kelive.com/KimEng/servlet/PDFDownl...</td>\n",
       "    </tr>\n",
       "  </tbody>\n",
       "</table>\n",
       "<p>1046 rows × 2 columns</p>\n",
       "</div>"
      ],
      "text/plain": [
       "      id_file                                               link\n",
       "0       56526  https://www.kelive.com/KimEng/servlet/PDFDownl...\n",
       "1       56547  https://www.kelive.com/KimEng/servlet/PDFDownl...\n",
       "2       56565  https://www.kelive.com/KimEng/servlet/PDFDownl...\n",
       "3       56594  https://www.kelive.com/KimEng/servlet/PDFDownl...\n",
       "4       56603  https://www.kelive.com/KimEng/servlet/PDFDownl...\n",
       "...       ...                                                ...\n",
       "1041    61610  https://www.kelive.com/KimEng/servlet/PDFDownl...\n",
       "1042    61611  https://www.kelive.com/KimEng/servlet/PDFDownl...\n",
       "1043    61612  https://www.kelive.com/KimEng/servlet/PDFDownl...\n",
       "1044    61613  https://www.kelive.com/KimEng/servlet/PDFDownl...\n",
       "1045    61614  https://www.kelive.com/KimEng/servlet/PDFDownl...\n",
       "\n",
       "[1046 rows x 2 columns]"
      ]
     },
     "execution_count": 24,
     "metadata": {},
     "output_type": "execute_result"
    }
   ],
   "source": [
    "link = 'https://www.kelive.com/KimEng/servlet/PDFDownloadViaEmail?source=0&rid='\n",
    "list_link = pd.DataFrame(columns=['id_file','link'])\n",
    "#add missing to list_link['id_file']\n",
    "list_link['id_file'] = missing\n",
    "#concat range(start,end) to list_link['id_file']\n",
    "list_link = pd.concat([list_link,pd.DataFrame(range(start,end),columns=['id_file'])],axis=0,ignore_index=True)\n",
    "list_link['link'] = link + list_link['id_file'].astype(str)\n",
    "list_link\n",
    "len(list_link)"
   ]
  },
  {
   "cell_type": "code",
   "execution_count": 25,
   "metadata": {},
   "outputs": [
    {
     "name": "stderr",
     "output_type": "stream",
     "text": [
      "C:\\Users\\HP PAVILION\\AppData\\Local\\Temp\\ipykernel_32236\\381679194.py:2: TqdmDeprecationWarning:\n",
      "\n",
      "Please use `tqdm.notebook.trange` instead of `tqdm.tnrange`\n",
      "\n"
     ]
    },
    {
     "data": {
      "application/vnd.jupyter.widget-view+json": {
       "model_id": "2fae782996c647898fd293e084f7d777",
       "version_major": 2,
       "version_minor": 0
      },
      "text/plain": [
       "  0%|          | 0/1046 [00:00<?, ?it/s]"
      ]
     },
     "metadata": {},
     "output_type": "display_data"
    },
    {
     "name": "stdout",
     "output_type": "stream",
     "text": [
      "Error https://www.kelive.com/KimEng/servlet/PDFDownloadViaEmail?source=0&rid=56767\n"
     ]
    }
   ],
   "source": [
    "r = requests.get(list_link.loc[0,'link'],timeout=5)\n",
    "for i in tnrange(len(list_link)):\n",
    "    try:\n",
    "        r = requests.get(list_link.loc[i,'link'],timeout=5)\n",
    "        try:\n",
    "            with r:\n",
    "                fname = ''\n",
    "                if \"Content-Disposition\" in r.headers.keys():\n",
    "                    fname = re.findall(\"filename=(.+)\", r.headers[\"Content-Disposition\"])[0]\n",
    "                else:\n",
    "                    fname = list_link.loc[i,'link'].split(\"/\")[-1]\n",
    "            list_link.loc[i,'filename'] = fname[1:-1]\n",
    "            if list_link.loc[i,'id_file'] not in files:\n",
    "                with open(dir_path+list_link.loc[i,'filename'], \"wb\") as f:\n",
    "                    f.write(r.content)\n",
    "            else: print('có rồi')\n",
    "\n",
    "        except requests.exceptions.RequestException as e:\n",
    "            print(e)\n",
    "    except requests.exceptions.RequestException as e:\n",
    "        list_link.loc[i,'status'] = 'ERROR'\n",
    "        print(\"Error\", list_link.loc[i,'link'])\n"
   ]
  },
  {
   "cell_type": "code",
   "execution_count": null,
   "metadata": {
    "hidden": true
   },
   "outputs": [],
   "source": []
  },
  {
   "cell_type": "markdown",
   "metadata": {},
   "source": [
    "# HOWARD MARKS - OAKTREE CAPITAL"
   ]
  },
  {
   "cell_type": "code",
   "execution_count": 159,
   "metadata": {},
   "outputs": [
    {
     "name": "stdout",
     "output_type": "stream",
     "text": [
      "Merged PDF saved as 'HowardMarks-Memo-1990_2023.pdf'\n"
     ]
    }
   ],
   "source": [
    "pdf_folder = os.path.expanduser(\"~/Desktop/SuperInvestor/Howard Marks/\")\n",
    "output_pdf = 'HowardMarks-Memo-1990_2023.pdf'\n",
    "pdf_files = []\n",
    "for filename in os.listdir(pdf_folder):\n",
    "    if filename.endswith('.pdf'):\n",
    "        pdf_files.append(os.path.join(pdf_folder, filename))\n",
    "if not pdf_files:\n",
    "    print(\"No PDF files found in the directory.\")\n",
    "else:\n",
    "    pdf_merger = PyPDF2.PdfMerger()\n",
    "    for pdf_file in pdf_files:\n",
    "        pdf_merger.append(pdf_file)\n",
    "    pdf_merger.write(output_pdf)\n",
    "    pdf_merger.close()\n",
    "\n",
    "    print(f\"Merged PDF saved as '{output_pdf}'\")"
   ]
  },
  {
   "cell_type": "markdown",
   "metadata": {},
   "source": [
    "# Emeth Value Capital"
   ]
  },
  {
   "cell_type": "code",
   "execution_count": 160,
   "metadata": {},
   "outputs": [
    {
     "name": "stdout",
     "output_type": "stream",
     "text": [
      "Merged PDF saved as 'Emeth Value Capital-2018_2023.pdf'\n"
     ]
    }
   ],
   "source": [
    "pdf_folder = os.path.expanduser(\"~/Desktop/SuperInvestor/Emeth Value Capital/\")\n",
    "output_pdf = 'Emeth Value Capital-2018_2023.pdf'\n",
    "pdf_files = []\n",
    "for filename in os.listdir(pdf_folder):\n",
    "    if filename.endswith('.pdf'):\n",
    "        pdf_files.append(os.path.join(pdf_folder, filename))\n",
    "if not pdf_files:\n",
    "    print(\"No PDF files found in the directory.\")\n",
    "else:\n",
    "    pdf_merger = PyPDF2.PdfMerger()\n",
    "    for pdf_file in pdf_files:\n",
    "        pdf_merger.append(pdf_file)\n",
    "    pdf_merger.write(output_pdf)\n",
    "    pdf_merger.close()\n",
    "\n",
    "    print(f\"Merged PDF saved as '{output_pdf}'\")"
   ]
  },
  {
   "cell_type": "markdown",
   "metadata": {},
   "source": [
    "# St James Investment Company"
   ]
  },
  {
   "cell_type": "code",
   "execution_count": 33,
   "metadata": {},
   "outputs": [
    {
     "name": "stdout",
     "output_type": "stream",
     "text": [
      "Merged PDF saved as 'St James Investment Company_2014-2023.pdf'\n"
     ]
    }
   ],
   "source": [
    "pdf_folder = os.path.expanduser(\"~/Desktop/SuperInvestor/St James Investment Company/\")\n",
    "output_pdf = 'St James Investment Company_2014-2023.pdf'\n",
    "pdf_files = []\n",
    "for filename in os.listdir(pdf_folder):\n",
    "    if filename.endswith('.pdf'):\n",
    "        pdf_files.append(os.path.join(pdf_folder, filename))\n",
    "if not pdf_files:\n",
    "    print(\"No PDF files found in the directory.\")\n",
    "else:\n",
    "    pdf_merger = PyPDF2.PdfMerger()\n",
    "    for pdf_file in pdf_files:\n",
    "        pdf_merger.append(pdf_file)\n",
    "    pdf_merger.write(output_pdf)\n",
    "    pdf_merger.close()\n",
    "\n",
    "    print(f\"Merged PDF saved as '{output_pdf}'\")"
   ]
  },
  {
   "cell_type": "code",
   "execution_count": 34,
   "metadata": {},
   "outputs": [
    {
     "name": "stdout",
     "output_type": "stream",
     "text": [
      "Merged PDF saved as 'TaoValue_2017-2021.pdf'\n"
     ]
    }
   ],
   "source": [
    "pdf_folder = os.path.expanduser(\"~/Desktop/SuperInvestor/TaoValue/\")\n",
    "output_pdf = 'TaoValue_2017-2021.pdf'\n",
    "pdf_files = []\n",
    "for filename in os.listdir(pdf_folder):\n",
    "    if filename.endswith('.pdf'):\n",
    "        pdf_files.append(os.path.join(pdf_folder, filename))\n",
    "if not pdf_files:\n",
    "    print(\"No PDF files found in the directory.\")\n",
    "else:\n",
    "    pdf_merger = PyPDF2.PdfMerger()\n",
    "    for pdf_file in pdf_files:\n",
    "        pdf_merger.append(pdf_file)\n",
    "    pdf_merger.write(output_pdf)\n",
    "    pdf_merger.close()\n",
    "\n",
    "    print(f\"Merged PDF saved as '{output_pdf}'\")"
   ]
  },
  {
   "cell_type": "code",
   "execution_count": 35,
   "metadata": {},
   "outputs": [
    {
     "name": "stdout",
     "output_type": "stream",
     "text": [
      "Merged PDF saved as 'Righ Tail Capital_2022-2023.pdf'\n"
     ]
    }
   ],
   "source": [
    "pdf_folder = os.path.expanduser(\"~/Desktop/SuperInvestor/Righ Tail Capital/\")\n",
    "output_pdf = 'Right Tail Capital_2022-2023.pdf'\n",
    "pdf_files = []\n",
    "for filename in os.listdir(pdf_folder):\n",
    "    if filename.endswith('.pdf'):\n",
    "        pdf_files.append(os.path.join(pdf_folder, filename))\n",
    "if not pdf_files:\n",
    "    print(\"No PDF files found in the directory.\")\n",
    "else:\n",
    "    pdf_merger = PyPDF2.PdfMerger()\n",
    "    for pdf_file in pdf_files:\n",
    "        pdf_merger.append(pdf_file)\n",
    "    pdf_merger.write(output_pdf)\n",
    "    pdf_merger.close()\n",
    "\n",
    "    print(f\"Merged PDF saved as '{output_pdf}'\")"
   ]
  },
  {
   "cell_type": "code",
   "execution_count": 55,
   "metadata": {},
   "outputs": [],
   "source": [
    "pdf_folder = os.path.expanduser(\"~/Desktop/SuperInvestor/Lindsell Train/\")\n",
    "output_pdf = 'Righ Tail Capital_2022-2023.pdf'\n",
    "pdf_files = []\n",
    "# for filename in os.listdir(pdf_folder):\n",
    "#     if filename.endswith('.pdf'):\n",
    "#         pdf_files.append(os.path.join(pdf_folder, filename))\n",
    "# if not pdf_files:\n",
    "#     print(\"No PDF files found in the directory.\")\n",
    "# else:\n",
    "#     pdf_merger = PyPDF2.PdfMerger()\n",
    "#     for pdf_file in pdf_files:\n",
    "#         pdf_merger.append(pdf_file)\n",
    "#     pdf_merger.write(output_pdf)\n",
    "#     pdf_merger.close()\n",
    "\n",
    "#     print(f\"Merged PDF saved as '{output_pdf}'\")"
   ]
  },
  {
   "cell_type": "markdown",
   "metadata": {},
   "source": [
    "# HaydenCapital"
   ]
  },
  {
   "cell_type": "code",
   "execution_count": 144,
   "metadata": {},
   "outputs": [],
   "source": [
    "import os\n",
    "dir_path = os.path.expanduser(\"~/Desktop/SuperInvestor/Hayden Capital/\")\n",
    "file_list = os.listdir(dir_path)\n",
    "list_file = pd.DataFrame(file_list, columns=['filename'])\n",
    "list_file = list(list_file['filename'])\n",
    "x['check'] = x['name'].isin(list_file)"
   ]
  },
  {
   "cell_type": "code",
   "execution_count": 145,
   "metadata": {},
   "outputs": [],
   "source": [
    "x = x[x['check']==False].reset_index()"
   ]
  },
  {
   "cell_type": "code",
   "execution_count": 146,
   "metadata": {},
   "outputs": [],
   "source": [
    "def download_pdf(url, save_path):\n",
    "    headers = {\"Accept\": \"application/pdf\",\n",
    "              \"User-Agent\":\"Mozilla/5.0 (Windows NT 10.0; Win64; x64) AppleWebKit/537.36 (KHTML, like Gecko) Chrome/117.0.0.0 Safari/537.36\"}  # Specify that you accept PDF format\n",
    "\n",
    "    response = requests.get(url, headers=headers)\n",
    "    \n",
    "    if response.status_code == 200:\n",
    "        with open(save_path, 'wb') as pdf_file:\n",
    "            pdf_file.write(response.content)\n",
    "        print(f\"PDF downloaded successfully to {save_path}\")\n",
    "    elif response.status_code == 406:\n",
    "        print(\"The server cannot provide a response in the format you accept (PDF).\")\n",
    "    else:\n",
    "        print(f\"Failed to download PDF. Status code: {response.status_code}\")"
   ]
  },
  {
   "cell_type": "code",
   "execution_count": 151,
   "metadata": {},
   "outputs": [
    {
     "name": "stderr",
     "output_type": "stream",
     "text": [
      "C:\\Users\\HP PAVILION\\AppData\\Local\\Temp\\ipykernel_4824\\277642095.py:2: TqdmDeprecationWarning:\n",
      "\n",
      "Please use `tqdm.notebook.trange` instead of `tqdm.tnrange`\n",
      "\n"
     ]
    },
    {
     "data": {
      "application/vnd.jupyter.widget-view+json": {
       "model_id": "78855a93d46643d99370ffa2d6b58ceb",
       "version_major": 2,
       "version_minor": 0
      },
      "text/plain": [
       "  0%|          | 0/22 [00:00<?, ?it/s]"
      ]
     },
     "metadata": {},
     "output_type": "display_data"
    },
    {
     "name": "stdout",
     "output_type": "stream",
     "text": [
      "Failed to download PDF. Status code: 404\n",
      "Failed to download PDF. Status code: 404\n",
      "Failed to download PDF. Status code: 404\n",
      "Failed to download PDF. Status code: 404\n",
      "Failed to download PDF. Status code: 404\n",
      "Failed to download PDF. Status code: 404\n",
      "Failed to download PDF. Status code: 404\n",
      "Failed to download PDF. Status code: 404\n",
      "Failed to download PDF. Status code: 404\n",
      "Failed to download PDF. Status code: 404\n",
      "Failed to download PDF. Status code: 404\n",
      "Failed to download PDF. Status code: 404\n",
      "Failed to download PDF. Status code: 404\n",
      "PDF downloaded successfully to C:\\Users\\HP PAVILION/Desktop/Superinvestor/Hayden Capital/Hayden-Capital-Quarterly-Letter-2017-Q2.pdf\n",
      "PDF downloaded successfully to C:\\Users\\HP PAVILION/Desktop/Superinvestor/Hayden Capital/Hayden-Capital-Quarterly-Letter-2017-Q3.pdf\n",
      "PDF downloaded successfully to C:\\Users\\HP PAVILION/Desktop/Superinvestor/Hayden Capital/Hayden-Capital-Quarterly-Letter-2017-Q4.pdf\n",
      "PDF downloaded successfully to C:\\Users\\HP PAVILION/Desktop/Superinvestor/Hayden Capital/Hayden-Capital-Quarterly-Letter-2018-Q1.pdf\n",
      "PDF downloaded successfully to C:\\Users\\HP PAVILION/Desktop/Superinvestor/Hayden Capital/Hayden-Capital-Quarterly-Letter-2018-Q2.pdf\n",
      "PDF downloaded successfully to C:\\Users\\HP PAVILION/Desktop/Superinvestor/Hayden Capital/Hayden-Capital-Quarterly-Letter-2018-Q3.pdf\n",
      "PDF downloaded successfully to C:\\Users\\HP PAVILION/Desktop/Superinvestor/Hayden Capital/Hayden-Capital-Quarterly-Letter-2018-Q4.pdf\n",
      "PDF downloaded successfully to C:\\Users\\HP PAVILION/Desktop/Superinvestor/Hayden Capital/Hayden-Capital-Quarterly-Letter-2019-Q1.pdf\n",
      "PDF downloaded successfully to C:\\Users\\HP PAVILION/Desktop/Superinvestor/Hayden Capital/Hayden-Capital-Quarterly-Letter-2019-Q2.pdf\n"
     ]
    }
   ],
   "source": [
    "desktop_path = os.path.expanduser(\"~/Desktop/Superinvestor/Hayden Capital/\")\n",
    "for i in tnrange(len(x)):\n",
    "    save_path = os.path.join(desktop_path, x.loc[i,'name'])\n",
    "    download_pdf(x.loc[i,'link'], save_path)"
   ]
  },
  {
   "cell_type": "code",
   "execution_count": 152,
   "metadata": {},
   "outputs": [
    {
     "name": "stdout",
     "output_type": "stream",
     "text": [
      "Merged PDF saved as 'Hayden_2017-2023.pdf'\n"
     ]
    }
   ],
   "source": [
    "pdf_folder = os.path.expanduser(\"~/Desktop/SuperInvestor/Hayden Capital/\")\n",
    "output_pdf = 'Hayden_2017-2023.pdf'\n",
    "pdf_files = []\n",
    "for filename in os.listdir(pdf_folder):\n",
    "    if filename.endswith('.pdf'):\n",
    "        pdf_files.append(os.path.join(pdf_folder, filename))\n",
    "if not pdf_files:\n",
    "    print(\"No PDF files found in the directory.\")\n",
    "else:\n",
    "    pdf_merger = PyPDF2.PdfMerger()\n",
    "    for pdf_file in pdf_files:\n",
    "        pdf_merger.append(pdf_file)\n",
    "    pdf_merger.write(output_pdf)\n",
    "    pdf_merger.close()\n",
    "\n",
    "    print(f\"Merged PDF saved as '{output_pdf}'\")"
   ]
  },
  {
   "cell_type": "code",
   "execution_count": null,
   "metadata": {},
   "outputs": [],
   "source": []
  },
  {
   "cell_type": "code",
   "execution_count": null,
   "metadata": {},
   "outputs": [],
   "source": []
  }
 ],
 "metadata": {
  "kernelspec": {
   "display_name": "Python 3 (ipykernel)",
   "language": "python",
   "name": "python3"
  },
  "language_info": {
   "codemirror_mode": {
    "name": "ipython",
    "version": 3
   },
   "file_extension": ".py",
   "mimetype": "text/x-python",
   "name": "python",
   "nbconvert_exporter": "python",
   "pygments_lexer": "ipython3",
   "version": "3.11.3"
  },
  "toc": {
   "base_numbering": 1,
   "nav_menu": {},
   "number_sections": true,
   "sideBar": true,
   "skip_h1_title": false,
   "title_cell": "Table of Contents",
   "title_sidebar": "Contents",
   "toc_cell": false,
   "toc_position": {},
   "toc_section_display": true,
   "toc_window_display": false
  }
 },
 "nbformat": 4,
 "nbformat_minor": 4
}
