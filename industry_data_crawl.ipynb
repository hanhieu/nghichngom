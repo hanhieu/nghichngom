{
 "cells": [
  {
   "cell_type": "code",
   "execution_count": 2,
   "metadata": {},
   "outputs": [],
   "source": [
    "import requests\n",
    "import pandas as pd\n",
    "from bs4 import BeautifulSoup\n",
    "import os"
   ]
  },
  {
   "cell_type": "markdown",
   "metadata": {},
   "source": [
    "# 1. VPA - Logistic"
   ]
  },
  {
   "cell_type": "code",
   "execution_count": 9,
   "metadata": {},
   "outputs": [],
   "source": [
    "df = []\n",
    "for i in range(1994,2025):\n",
    "    url = 'http://www.vpa.org.vn/statistics-'+str(i)\n",
    "    #scan for xlsx files in the url\n",
    "    response = requests.get(url)\n",
    "    soup = BeautifulSoup(response.text, 'html.parser')\n",
    "    links = []\n",
    "    for link in soup.find_all('a'):\n",
    "        if link.get('href').endswith('.xlsx'):\n",
    "            links.append(link.get('href'))\n",
    "    #add links to df\n",
    "    df.append(links)\n"
   ]
  },
  {
   "cell_type": "code",
   "execution_count": 14,
   "metadata": {},
   "outputs": [
    {
     "data": {
      "text/plain": [
       "['http://www.vpa.org.vn/wp-content/uploads/2017/08/1995-ex.xlsx',\n",
       " 'http://www.vpa.org.vn/wp-content/uploads/2017/08/1996-ex.xlsx',\n",
       " 'http://www.vpa.org.vn/wp-content/uploads/2017/08/1997-ex.xlsx',\n",
       " 'http://www.vpa.org.vn/wp-content/uploads/2017/08/1998-ex.xlsx',\n",
       " 'http://www.vpa.org.vn/wp-content/uploads/2017/08/1999-ex.xlsx',\n",
       " 'http://www.vpa.org.vn/wp-content/uploads/2017/08/2000.xlsx',\n",
       " 'http://www.vpa.org.vn/wp-content/uploads/2017/08/2001-ex.xlsx',\n",
       " 'http://www.vpa.org.vn/wp-content/uploads/2017/08/2002-ex.xlsx',\n",
       " 'http://www.vpa.org.vn/wp-content/uploads/2017/08/2003-ex.xlsx',\n",
       " 'http://www.vpa.org.vn/wp-content/uploads/2017/08/2004-ex.xlsx',\n",
       " 'http://www.vpa.org.vn/wp-content/uploads/2017/08/2005-ex.xlsx',\n",
       " 'http://www.vpa.org.vn/wp-content/uploads/2017/08/2006-ex.xlsx',\n",
       " 'http://www.vpa.org.vn/wp-content/uploads/2017/08/2007-ex.xlsx',\n",
       " 'http://www.vpa.org.vn/wp-content/uploads/2017/08/2008-ex.xlsx',\n",
       " 'http://www.vpa.org.vn/wp-content/uploads/2017/08/2009-ex.xlsx',\n",
       " 'http://www.vpa.org.vn/wp-content/uploads/2017/08/2010-ex.xlsx',\n",
       " 'http://www.vpa.org.vn/wp-content/uploads/2017/08/2011-ex.xlsx',\n",
       " 'http://www.vpa.org.vn/wp-content/uploads/2017/06/2012-ex.xlsx',\n",
       " 'http://www.vpa.org.vn/wp-content/uploads/2017/06/2013-ex.xlsx',\n",
       " 'http://www.vpa.org.vn/wp-content/uploads/2017/06/2014.xlsx',\n",
       " 'http://www.vpa.org.vn/wp-content/uploads/2017/10/Tong-SL-excel-2016.xlsx',\n",
       " 'http://www.vpa.org.vn/wp-content/uploads/2018/08/VPA-SLTQ-2017-EN.xlsx',\n",
       " 'http://www.vpa.org.vn/wp-content/uploads/2019/08/vpa-2018-new.xlsx',\n",
       " 'http://www.vpa.org.vn/wp-content/uploads/2020/09/VPA-2019-new.xlsx',\n",
       " 'http://www.vpa.org.vn/wp-content/uploads/2021/09/statistics-2020.xlsx',\n",
       " '/wp-content/uploads/2022/08/Statistics-2021.xlsx',\n",
       " 'http://www.vpa.org.vn/wp-content/uploads/2023/08/vpa-2022.xlsx']"
      ]
     },
     "execution_count": 14,
     "metadata": {},
     "output_type": "execute_result"
    }
   ],
   "source": [
    "x = [item for sublist in df for item in sublist]\n",
    "x"
   ]
  },
  {
   "cell_type": "code",
   "execution_count": 15,
   "metadata": {},
   "outputs": [
    {
     "data": {
      "text/plain": [
       "'C:\\\\Users\\\\HP PAVILION/Desktop'"
      ]
     },
     "execution_count": 15,
     "metadata": {},
     "output_type": "execute_result"
    }
   ],
   "source": [
    "desktop = os.path.expanduser(\"~/Desktop\")\n",
    "os.chdir(desktop)\n",
    "#save excel file in x\n",
    "for i in x:\n",
    "    response = requests.get(i)\n",
    "    with open(i.split('/')[-1], 'wb') as f:\n",
    "        f.write(response.content)\n",
    "        f.close()\n",
    "\n"
   ]
  },
  {
   "cell_type": "code",
   "execution_count": null,
   "metadata": {},
   "outputs": [],
   "source": [
    "for i in x:\n",
    "    response = requests.get(i)\n",
    "    with open(desktop+'/data/Logistics/VPA/'+i.split('/')[-1], 'wb') as f:\n",
    "        f.write(response.content)\n",
    "        f.close()"
   ]
  },
  {
   "cell_type": "code",
   "execution_count": 21,
   "metadata": {},
   "outputs": [],
   "source": [
    "#rename files in data/Logistics/VPA/ to remove \"-ex\"\n",
    "os.chdir(desktop+'/data/Logistics/VPA/')\n",
    "for i in os.listdir():\n",
    "    os.rename(i, i.replace('-ex',''))"
   ]
  },
  {
   "cell_type": "markdown",
   "metadata": {},
   "source": [
    "# 2. Tân Cảng"
   ]
  },
  {
   "cell_type": "code",
   "execution_count": 39,
   "metadata": {},
   "outputs": [],
   "source": [
    "url = 'https://saigonnewport.com.vn/thu-vien/ajax/list?title=&category=&language_file=&p=1&sort=&type_library=file&startDate=&endDate='\n",
    "payload = {'title': '',\n",
    "'category':'presentation', \n",
    "'language_file':'',\n",
    "'p':'' ,\n",
    "'sort':'',\n",
    "'type_library': 'file',\n",
    "'startDate':'', \n",
    "'endDate':'' }"
   ]
  },
  {
   "cell_type": "code",
   "execution_count": 60,
   "metadata": {},
   "outputs": [],
   "source": [
    "#get data from url\n",
    "response = requests.post(url, data=payload)\n",
    "data = response.json()\n",
    "x = data['message']\n",
    "#BeautifulSoup x\n",
    "soup = BeautifulSoup(x, 'html.parser')\n",
    "#get last page in soup\n",
    "last_page = soup.find_all('a', class_='page-link')[-1].get('data-page')\n",
    "last_page=int(last_page)\n",
    "for i in range(1,last_page+1):\n",
    "    payload['p'] = i\n",
    "    response = requests.post(url, data=payload)\n",
    "    data = response.json()\n",
    "    x = data['message']\n",
    "    soup = BeautifulSoup(x, 'html.parser')\n",
    "    for link in soup.find_all('a'):\n",
    "        if 'download' in link.get('href'):\n",
    "            links.append(link.get('href'))\n"
   ]
  },
  {
   "cell_type": "code",
   "execution_count": 67,
   "metadata": {},
   "outputs": [],
   "source": [
    "base_url = 'https://saigonnewport.com.vn/'\n",
    "os.chdir(desktop+'/data/Logistics/SaigonNewport/')\n",
    "for i in links:\n",
    "    response = requests.get(base_url+i)\n",
    "    with open(i.split('/')[-1]+'.pdf', 'wb') as f:\n",
    "        f.write(response.content)\n",
    "        f.close()\n"
   ]
  },
  {
   "cell_type": "code",
   "execution_count": 66,
   "metadata": {},
   "outputs": [],
   "source": [
    "#save pdf in link base_url+links[0]\n",
    "response = requests.get(base_url+links[0])\n",
    "with open(desktop+'/data/Logistics/SaigonNewport/'+links[0].split('/')[-1], 'wb') as f:\n",
    "    f.write(response.content)\n",
    "    f.close()\n"
   ]
  },
  {
   "cell_type": "markdown",
   "metadata": {},
   "source": [
    "# 3.VAMA"
   ]
  },
  {
   "cell_type": "code",
   "execution_count": 84,
   "metadata": {},
   "outputs": [],
   "source": [
    "url = 'http://vama.org.vn/vn/bao-cao-ban-hang.html'"
   ]
  },
  {
   "cell_type": "code",
   "execution_count": 98,
   "metadata": {},
   "outputs": [],
   "source": [
    "response = requests.get(url)\n",
    "soup = BeautifulSoup(response.text, 'html.parser')\n",
    "#find all links in soup\n",
    "#find last page in soup\n",
    "last_page = soup.find_all('a', class_='btn-page next-page')[-1]\n",
    "#get the last number in last_page\n",
    "last_page = int(last_page.get('href').split('=')[-1])\n",
    "url = 'http://vama.org.vn/vn/bao-cao-ban-hang.html?Page='\n",
    "for i in range(1,last_page+1):\n",
    "    response = requests.get(url+str(i))\n",
    "    soup = BeautifulSoup(response.text, 'html.parser')\n",
    "    for link in soup.find_all('a'):\n",
    "        if 'pdf' in link.get('href'):\n",
    "            links.append(link.get('href'))\n"
   ]
  },
  {
   "cell_type": "code",
   "execution_count": 100,
   "metadata": {},
   "outputs": [],
   "source": [
    "base_url = 'http://vama.org.vn/'\n",
    "os.chdir(desktop+'/data/Cars & Motorbike/VAMA/')\n",
    "for i in links:\n",
    "    response = requests.get(base_url+i)\n",
    "    with open(i.split('/')[-1], 'wb') as f:\n",
    "        f.write(response.content)\n",
    "        f.close()"
   ]
  },
  {
   "cell_type": "code",
   "execution_count": 115,
   "metadata": {},
   "outputs": [],
   "source": [
    "#rename files in data/Cars & Motorbike/VAMA/ to remove \"%20\" with space\n",
    "os.chdir(desktop+'/data/Cars & Motorbike/VAMA/')\n",
    "# for i in os.listdir():\n",
    "#     os.rename(i, i.replace('%20',' '))\n",
    "#finding number in file name in os.listdir() and reorganize it to the beginning of filename\n",
    "for i in os.listdir():\n",
    "    x = i.split(' ')\n",
    "    for j in x:\n",
    "        if j.isdigit():\n",
    "            x.remove(j)\n",
    "            x.insert(0,j+'-')\n",
    "    os.rename(i, ' '.join(x))\n"
   ]
  },
  {
   "cell_type": "code",
   "execution_count": null,
   "metadata": {},
   "outputs": [],
   "source": [
    "#remove blank space in filename\n",
    "for i in os.listdir():\n",
    "    os.rename(i, i.replace(' ',''))\n"
   ]
  },
  {
   "cell_type": "markdown",
   "metadata": {},
   "source": [
    "# 4.VAMM"
   ]
  },
  {
   "cell_type": "code",
   "execution_count": 150,
   "metadata": {},
   "outputs": [],
   "source": [
    "url = 'https://vamm.vn/bao-cao-ban-hang/'\n",
    "response = requests.get(url)\n",
    "soup = BeautifulSoup(response.text, 'html.parser')"
   ]
  },
  {
   "cell_type": "code",
   "execution_count": 135,
   "metadata": {},
   "outputs": [
    {
     "data": {
      "text/plain": [
       "['http://vamm.vn/wp-content/uploads/2019/05/VAMM-Sales-Announcement-Q1_V.pdf',\n",
       " 'http://vamm.vn/wp-content/uploads/2019/01/VAMM-Sales-Announcement-01.2019_V.pdf',\n",
       " 'http://vamm.vn/wp-content/uploads/2018/10/VAMM-Sales-Announcement-Q3.2018-final_V-1.pdf',\n",
       " 'http://vamm.vn/wp-content/uploads/2018/10/VAMM-Sales-Announcement-Q2.2018-final_V-2.pdf',\n",
       " 'http://vamm.vn/wp-content/uploads/2018/09/VAMM_Sales_Announcement_Q1.2018_final_-_V_1_-1.pdf',\n",
       " 'http://vamm.vn/wp-content/uploads/2018/09/VAMM_Sales_Announcement_01.2018_final_-_V_.pdf',\n",
       " 'http://vamm.vn/wp-content/uploads/2018/09/VAMM_Sales_Announcement_10.2017_-_V_final_.pdf',\n",
       " 'http://vamm.vn/wp-content/uploads/2018/09/VAMM_Cong_bo_doanh_so_ban_hang_07.2017_1_-1.pdf',\n",
       " 'http://vamm.vn/wp-content/uploads/2018/09/VAMM_Sales_Announcement_01.2017_final_-_V_-1.pdf',\n",
       " 'http://vamm.vn/wp-content/uploads/2018/09/Bao_cao_ban_hang_t-_thang_4_2015_-_9_2015-1.pdf',\n",
       " 'http://vamm.vn/wp-content/uploads/2018/09/Sale_announcement_-_VAMM_press_release_V_-_FINAL511-2.pdf']"
      ]
     },
     "execution_count": 135,
     "metadata": {},
     "output_type": "execute_result"
    }
   ],
   "source": [
    "#find href in soup\n",
    "links = []\n",
    "for link in soup.find_all('a'):\n",
    "    if '.pdf' in link.get('href'):\n",
    "        links.append(link.get('href'))\n",
    "links"
   ]
  },
  {
   "cell_type": "code",
   "execution_count": 136,
   "metadata": {},
   "outputs": [],
   "source": [
    "os.chdir(desktop+'/data/Cars & Motorbike/VAMM/')\n",
    "for i in links:\n",
    "    response = requests.get(i)\n",
    "    with open(i.split('/')[-1], 'wb') as f:\n",
    "        f.write(response.content)\n",
    "        f.close()"
   ]
  },
  {
   "cell_type": "code",
   "execution_count": 154,
   "metadata": {},
   "outputs": [],
   "source": [
    "# find a href in soup\n",
    "url = 'https://vamm.vn/bao-cao-ban-hang/'\n",
    "response = requests.get(url)\n",
    "soup = BeautifulSoup(response.text, 'html.parser')\n",
    "links = []\n",
    "for link in soup.find_all('a'):\n",
    "    if 'doanh-so' in link.get('href') and '.pdf' not in link.get('href'):\n",
    "        links.append(link.get('href'))"
   ]
  },
  {
   "cell_type": "code",
   "execution_count": null,
   "metadata": {},
   "outputs": [],
   "source": [
    "x = []\n",
    "#find all href in soup\n",
    "for i in links:\n",
    "    response = requests.get(i)\n",
    "    soup = BeautifulSoup(response.text, 'html.parser')\n",
    "    #catch error \n",
    "    try:\n",
    "        for link in soup.find_all('a'):\n",
    "            if 'pdf' in link.get('href'):\n",
    "                x.append(link.get('href'))\n",
    "    except:\n",
    "        with open(i.split('/')[-2], 'wb') as f:\n",
    "            f.write(response.content)\n",
    "            f.close()\n"
   ]
  },
  {
   "cell_type": "code",
   "execution_count": 163,
   "metadata": {},
   "outputs": [],
   "source": [
    "for i in x:\n",
    "    response = requests.get(i)\n",
    "    with open(i.split('/')[-1], 'wb') as f:\n",
    "        f.write(response.content)\n",
    "        f.close()"
   ]
  },
  {
   "cell_type": "code",
   "execution_count": null,
   "metadata": {},
   "outputs": [],
   "source": []
  },
  {
   "cell_type": "code",
   "execution_count": null,
   "metadata": {},
   "outputs": [],
   "source": []
  }
 ],
 "metadata": {
  "kernelspec": {
   "display_name": "Python 3",
   "language": "python",
   "name": "python3"
  },
  "language_info": {
   "codemirror_mode": {
    "name": "ipython",
    "version": 3
   },
   "file_extension": ".py",
   "mimetype": "text/x-python",
   "name": "python",
   "nbconvert_exporter": "python",
   "pygments_lexer": "ipython3",
   "version": "3.11.3"
  }
 },
 "nbformat": 4,
 "nbformat_minor": 2
}
