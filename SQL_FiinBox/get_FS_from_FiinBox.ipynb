{
 "cells": [
  {
   "cell_type": "code",
   "execution_count": 2,
   "metadata": {},
   "outputs": [],
   "source": [
    "import pandas as pd\n",
    "import numpy as np\n",
    "import pyodbc\n",
    "import sqlalchemy as sa\n",
    "from sqlalchemy import create_engine\n",
    "from sqlalchemy.engine import URL\n",
    "from requests_html import AsyncHTMLSession\n",
    "asession = AsyncHTMLSession()\n",
    "from datetime import date\n",
    "from dateutil.relativedelta import relativedelta\n",
    "import os\n"
   ]
  },
  {
   "cell_type": "code",
   "execution_count": 12,
   "metadata": {},
   "outputs": [],
   "source": [
    "pdf_folder = os.path.expanduser(\"~/Desktop/\")\n",
    "idx = pd.IndexSlice\n",
    "pd.options.display.float_format = '{:,.3f}'.format\n",
    "sql_col = pd.read_excel('E:/Data/6.Python/FiinBox/SQL-col.xlsx',\n",
    "                       sheet_name='Sheet3')\n",
    "\n",
    "connection_string = \"DRIVER={SQL Server};SERVER=113.160.94.133,63830;DATABASE=FiinRatings;UID=FiinRatings.FRA.View;PWD=Fiin@1212\"\n",
    "connection_url = URL.create(\"mssql+pyodbc\", query={\"odbc_connect\": connection_string})\n",
    "engine = create_engine(connection_url)"
   ]
  },
  {
   "cell_type": "code",
   "execution_count": 34,
   "metadata": {},
   "outputs": [],
   "source": [
    "def get_top_company(x):\n",
    "    query = \"\"\" \n",
    "    SELECT DISTINCT TOP  (\"\"\" + str(x) + \"\"\") \n",
    "    b.OrganizationId,\n",
    "    a.OrganizationName,\n",
    "    a.TaxCode,\n",
    "    d.ICBId,\n",
    "    LEFT(b.PeriodId, 4) AS YearReport,\n",
    "    SUBSTRING(CONVERT(varchar(10), b.PeriodID), 5, 2) AS LengthReport,\n",
    "    b.PeriodId,\n",
    "    b.ReportTypeId,\n",
    "    b.RecordStatusId,\n",
    "    b.IsPriority,\n",
    "    b.BS64,\n",
    "    b.BS95,\n",
    "    i.IS3,\n",
    "    i.IS20\n",
    "FROM [FiinRatings].[dbo].[FGFB_COFS_DR_BalanceSheet] b\n",
    "LEFT JOIN [FiinRatings].[dbo].[FGFB_COIN_DR_Organization] a \n",
    "    ON b.OrganizationId = a.OrganizationID\n",
    "LEFT JOIN [FiinRatings].[dbo].[FGFB_COIN_DR_Organization_ICB] d \n",
    "    ON b.OrganizationId = d.OrganizationId \n",
    "LEFT JOIN [FiinRatings].[dbo].[FGFB_COFS_DR_IncomeStatement] i \n",
    "    ON b.OrganizationID = i.OrganizationID \n",
    "    AND b.PeriodID = i.PeriodID \n",
    "    AND b.ReportTypeId = i.ReportTypeId\n",
    "WHERE LEFT(b.PeriodId, 4) = '2023' \n",
    "    AND SUBSTRING(CONVERT(varchar(10), b.PeriodID), 5, 2) = '05'\n",
    "    AND b.IsPriority = 1\n",
    "    AND b.ReportTypeId = 5\n",
    "    AND d.ICBId NOT IN (319, 325, 337, 338)\n",
    "ORDER BY b.BS64 DESC, YearReport, LengthReport;\n",
    "\n",
    "\n",
    "\"\"\"\n",
    "    with engine.begin() as conn:\n",
    "        df = pd.read_sql_query(sa.text(query), conn)\n",
    "    ##    df = pd.read_sql_query(query, conn)\n",
    "        df = df.loc[:,~df.columns.duplicated()]  \n",
    "        # df.to_excel(pdf_folder + 'Top ' + str(x) + 'company'  + '.xlsx')\n",
    "        # print('Đã lưu '+'Top ' + str(x) + 'company')\n",
    "        return df"
   ]
  },
  {
   "cell_type": "code",
   "execution_count": 35,
   "metadata": {},
   "outputs": [],
   "source": [
    "t = get_top_company(100)"
   ]
  },
  {
   "cell_type": "code",
   "execution_count": 57,
   "metadata": {},
   "outputs": [],
   "source": [
    "def get_SQL(formatted_tax_codes):\n",
    "   formatted_tax_codes = \", \".join([f\"'{code}'\" for code in tax_codes])\n",
    "   query = f\"\"\" \n",
    "   SELECT DISTINCT\n",
    "    tb.RecordId,\n",
    "    a.TaxCode,\n",
    "    a.OrganizationName,\n",
    "    b.ReportTypeId,\n",
    "    p.RealYear as YearReport,\n",
    "    p.RealQuarter as LengthReport,\n",
    "    b.IsPriority,\n",
    "    -- Balance Sheet\n",
    "    b.BS64, b.BS1, b.BS27, -- Asset, Current Asset, Non-Current Asset\n",
    "    b.BS65, b.BS66, b.BS81, -- Liability, Current Liability, Non-Current Liability\n",
    "    b.BS95, -- Equity\n",
    "    -- Current Assets\n",
    "    b.BS2, b.BS5, -- Cash & ST Investments\n",
    "    b.BS9, b.BS10, b.BS11, b.BS14, b.BS16, -- Current Accounts Receivable\n",
    "    b.BS18, -- Net Inventory\n",
    "    -- Non-Current Assets\n",
    "    b.BS28, b.BS29, b.BS35, -- Long-Term Accounts Receivable\n",
    "    b.BS36, b.BS37, b.BS38, b.BS39, b.BS40, b.BS41, b.BS42, b.BS43, b.BS44, b.BS46, b.BS47, b.BS48, b.BS49, b.BS50, b.BS51,b.BS39,b.BS42,b.BS45, -- Fixed Assets & CIP\n",
    "    b.BS52, b.BS53, b.BS54, -- Long-Term Investments\n",
    "    b.BS63, -- Goodwill\n",
    "    -- Current Liabilities\n",
    "    b.BS67, b.BS74, b.BS76, b.BS68, -- CL\n",
    "    -- Non-Current Liabilities\n",
    "    b.BS83, b.BS87, b.BS89, b.BS90, b.BS91,b.BS82, -- NCL\n",
    "    -- Total Equity\n",
    "    b.BS95, b.BS97, b.BS99, b.BS100, b.BS109, b.BS110, b.BS111, b.BS112, -- TE\n",
    "    -- Income Statement\n",
    "    i.IS1, i.IS2, i.IS3, i.IS5, i.IS6, i.IS7, i.IS8, i.IS9, i.IS10, i.IS11, i.IS13, i.IS14, i.IS15, i.IS16, i.IS17, i.IS20, i.IS21, i.IS22,\n",
    "    -- Cash Flow\n",
    "    c.CF19, c.CF30, c.CF37, -- CFO, CFI, CFF\n",
    "    c.CF10, c.CF11, c.CF12, c.CF13, c.CF14, -- change in Rec,Inv,AP,Prepaid expense\n",
    "    c.CF2, c.CF3, c.CF4, c.CF5, -- Depreciation & Amortization\n",
    "    c.CF29, c.CF15, c.CF16, -- Dividend received, Interest Paid & Tax Paid\n",
    "    c.CF9, -- CF before WC\n",
    "    c.CF20, c.CF21, c.CF22, -- CF In & Out\n",
    "    c.CF23, c.CF24, -- Capex & Disposal\n",
    "    c.CF31, c.CF32, c.CF36, -- Equity Raise, Treasury, Dividend\n",
    "    c.CF33, c.CF34, c.CF39 -- Borrowing\n",
    "FROM (\n",
    "    SELECT DISTINCT RecordId, OrganizationId, PeriodId, ReportTypeId, RecordStatusId, IsPriority\n",
    "    FROM FGFB_COFS_DR_BalanceSheet b\n",
    "    WHERE \n",
    "        CAST(SUBSTRING(CONVERT(varchar(10), b.PeriodID), 6, 1) AS tinyint) = 5\n",
    "        AND IsHistory = 0\n",
    "        AND RecordStatusId <= 1\n",
    ") tb\n",
    "JOIN FGFB_COFS_DR_BalanceSheet b ON b.RecordId = tb.RecordId\n",
    "JOIN FGFB_COIN_DR_Organization a ON tb.OrganizationId = a.OrganizationId\n",
    "JOIN FGFB_SYDI_DR_Period p ON tb.PeriodId = p.PeriodId\n",
    "LEFT JOIN FGFB_COFS_DR_IncomeStatement i ON \n",
    "    tb.OrganizationID = i.OrganizationID  \n",
    "    AND tb.PeriodID = i.PeriodID\n",
    "    AND tb.ReportTypeId = i.ReportTypeId\n",
    "    AND tb.RecordStatusId = i.RecordStatusId\n",
    "    AND tb.IsPriority = i.IsPriority\n",
    "LEFT JOIN FGFB_COFS_DR_CashFlow c ON \n",
    "    tb.OrganizationID = c.OrganizationID\n",
    "    AND tb.PeriodID = c.PeriodID\n",
    "    AND tb.ReportTypeId = c.ReportTypeId\n",
    "    AND tb.RecordStatusId = c.RecordStatusId\n",
    "    AND tb.IsPriority = c.IsPriority\n",
    "WHERE \n",
    "\ta.TaxCode in ({formatted_tax_codes})    \n",
    "ORDER BY a.TaxCode ASC, p.RealYear ASC, p.RealQuarter ASC;\n",
    "\n",
    "\"\"\"\n",
    "   with engine.begin() as conn:\n",
    "        df = pd.read_sql_query(sa.text(query), conn)\n",
    "    ##    df = pd.read_sql_query(query, conn)\n",
    "        df = df.loc[:,~df.columns.duplicated()]  \n",
    "        df.to_excel(pdf_folder + df['OrganizationName'][0] + '.xlsx')\n",
    "        print('Đã lưu '+df['OrganizationName'][0])\n"
   ]
  },
  {
   "cell_type": "code",
   "execution_count": 56,
   "metadata": {},
   "outputs": [
    {
     "name": "stdout",
     "output_type": "stream",
     "text": [
      "Đã lưu Tập đoàn Điện lực Việt Nam\n"
     ]
    }
   ],
   "source": [
    "tax_codes = t['TaxCode'].tolist()\n",
    "sql_query = get_SQL(tax_codes)"
   ]
  },
  {
   "cell_type": "code",
   "execution_count": null,
   "metadata": {},
   "outputs": [],
   "source": []
  }
 ],
 "metadata": {
  "kernelspec": {
   "display_name": "Python 3",
   "language": "python",
   "name": "python3"
  },
  "language_info": {
   "codemirror_mode": {
    "name": "ipython",
    "version": 3
   },
   "file_extension": ".py",
   "mimetype": "text/x-python",
   "name": "python",
   "nbconvert_exporter": "python",
   "pygments_lexer": "ipython3",
   "version": "3.11.3"
  }
 },
 "nbformat": 4,
 "nbformat_minor": 2
}
